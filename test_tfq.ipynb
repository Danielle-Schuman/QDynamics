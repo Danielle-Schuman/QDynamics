{
 "cells": [
  {
   "cell_type": "code",
   "execution_count": 4,
   "metadata": {},
   "outputs": [
    {
     "ename": "ImportError",
     "evalue": "cannot import name 'cphase' from 'cirq' (/Library/Frameworks/Python.framework/Versions/3.7/lib/python3.7/site-packages/cirq/__init__.py)",
     "output_type": "error",
     "traceback": [
      "\u001b[0;31m---------------------------------------------------------------------------\u001b[0m",
      "\u001b[0;31mImportError\u001b[0m                               Traceback (most recent call last)",
      "\u001b[0;32m<ipython-input-4-f71c659c0cf4>\u001b[0m in \u001b[0;36m<module>\u001b[0;34m\u001b[0m\n\u001b[1;32m      2\u001b[0m \u001b[0;31m#import tensorflow_quantum as tfq\u001b[0m\u001b[0;34m\u001b[0m\u001b[0;34m\u001b[0m\u001b[0;34m\u001b[0m\u001b[0m\n\u001b[1;32m      3\u001b[0m \u001b[0;32mimport\u001b[0m \u001b[0mcirq\u001b[0m\u001b[0;34m\u001b[0m\u001b[0;34m\u001b[0m\u001b[0m\n\u001b[0;32m----> 4\u001b[0;31m \u001b[0;32mfrom\u001b[0m \u001b[0mcirq\u001b[0m \u001b[0;32mimport\u001b[0m \u001b[0mH\u001b[0m\u001b[0;34m,\u001b[0m \u001b[0mX\u001b[0m\u001b[0;34m,\u001b[0m \u001b[0mcphase\u001b[0m\u001b[0;34m,\u001b[0m \u001b[0mCCX\u001b[0m\u001b[0;34m,\u001b[0m \u001b[0mmeasure\u001b[0m\u001b[0;34m\u001b[0m\u001b[0;34m\u001b[0m\u001b[0m\n\u001b[0m\u001b[1;32m      5\u001b[0m \u001b[0;32mfrom\u001b[0m \u001b[0mcirq\u001b[0m\u001b[0;34m.\u001b[0m\u001b[0mcircuits\u001b[0m \u001b[0;32mimport\u001b[0m \u001b[0mInsertStrategy\u001b[0m\u001b[0;34m\u001b[0m\u001b[0;34m\u001b[0m\u001b[0m\n\u001b[1;32m      6\u001b[0m \u001b[0;32mimport\u001b[0m \u001b[0msympy\u001b[0m\u001b[0;34m\u001b[0m\u001b[0;34m\u001b[0m\u001b[0m\n",
      "\u001b[0;31mImportError\u001b[0m: cannot import name 'cphase' from 'cirq' (/Library/Frameworks/Python.framework/Versions/3.7/lib/python3.7/site-packages/cirq/__init__.py)"
     ]
    }
   ],
   "source": [
    "# TFQ / Cirq code for quantum layer: 1 node, input-vector-length = 4 (TODO: make 16)\n",
    "#import tensorflow_quantum as tfq\n",
    "import cirq\n",
    "from cirq import H, X, cphase, CCX, measure\n",
    "from cirq.circuits import InsertStrategy\n",
    "import sympy\n",
    "import matplotlib.pyplot as plt\n",
    "from cirq.contrib.svg import SVGCircuit\n",
    "\n",
    "# 2 regular qubits, 1 ancilla\n",
    "number_qubits = 3\n",
    "number_regular_qubits = number_qubits - 1\n",
    "size = number_regular_qubits ** 2\n",
    "\n",
    "# specify device with cirq\n",
    "simulator = cirq.Simulator()\n",
    "\n",
    "# specify cirq circuit\n",
    "# specify parameters to set later with NN inputs and weights using Keras + TFQ\n",
    "control_params = sympy.symbols('theta1 theta2 theta3 w1 w2 w3')\n",
    "# TODO: Normalize weights and inputs to be between [0, pi / 2]\n",
    "# TODO: Figure out how MCPhaseGate works -> replace CPhase-Gate (cu1) with this and Toffoli with Multi-controlled CNOT and use 4 qubits, Input-Size 16 instead\n",
    "regular_qubits = cirq.LineQubit.range(number_regular_qubits)\n",
    "ancilla = cirq.NamedQubit('ancilla')\n",
    "qc = cirq.Circuit()\n",
    "# apply Hadamard gate to all regular qubits to create a superposition\n",
    "qc.append(H.on_each(*regular_qubits))\n",
    "# loop over all inputs in inputvector to encode them to the right base states using phase-shifts\n",
    "for index in range(1, size):\n",
    "    insert_list = []\n",
    "    # index as binary number\n",
    "    binary = '{0:02b}'.format(index)\n",
    "    # get qubit at digit in binary state (positions of qubits : q0, q1, q2, q3) (figuratively, not actually, we are in superposition after all)\n",
    "    for j in range(len(binary)):\n",
    "        if binary[j] == '0':\n",
    "            insert_list.append(X(regular_qubits[j]))\n",
    "    # this_phase_gate = MCPhaseGate(value, 3, label=\"this_phase_gate\")\n",
    "    # qc.this_phase_gate(0, 1, 2, 3)\n",
    "    # perform controlled phase shift (for more qubits probably possible using ControlledGate() and MatrixGate()\n",
    "    insert_list.append(cphase(control_params[index - 1])(*regular_qubits))\n",
    "    # \"undo\" the NOT-gates to get back to previous states = apply another not\n",
    "    for j in range(len(binary)):\n",
    "        if binary[j] == '0':\n",
    "            insert_list.append(X(regular_qubits[j]))\n",
    "    qc.append(insert_list, strategy=InsertStrategy.NEW_THEN_INLINE)\n",
    "# loop over weights\n",
    "for w in range(1, size):\n",
    "    insert_list = []\n",
    "    # index as binary number\n",
    "    binary = '{0:02b}'.format(w)\n",
    "    # get qubit at digit in binary state (positions of qubits : q0, q1, q2, q3) (figuratively, not actually, we are in superposition after all)\n",
    "    for j in range(len(binary)):\n",
    "        if binary[j] == '0':\n",
    "            insert_list.append(X(regular_qubits[j]))\n",
    "    # this_phase_gate = MCPhaseGate(value, 3, label=\"this_phase_gate\")\n",
    "    # qc.this_phase_gate(0, 1, 2, 3)\n",
    "    # perform conjugate transpose controlled phase shift\n",
    "    insert_list.append(cphase(-1 * control_params[w + 2])(*regular_qubits))\n",
    "    # \"undo\" the NOT-gates to get back to previous states = apply another not\n",
    "    for j in range(len(binary)):\n",
    "        if binary[j] == '0':\n",
    "            insert_list.append(X(regular_qubits[j]))\n",
    "    qc.append(insert_list, strategy=InsertStrategy.NEW_THEN_INLINE)\n",
    "# apply Hadamard gate to all regular qubits\n",
    "qc.append(H.on_each(*regular_qubits), strategy=InsertStrategy.NEW_THEN_INLINE)\n",
    "# apply X gate to all regular qubits\n",
    "qc.append(X.on_each(*regular_qubits), strategy=InsertStrategy.NEW_THEN_INLINE)\n",
    "# collect combined state from all regular qubits with ancilla qubit using multi-controlled NOT-gate (Toffoli-Gate in case of 2 regular qubits)\n",
    "qc.append(CCX(regular_qubits[0], regular_qubits[1], ancilla), strategy=InsertStrategy.NEW_THEN_INLINE)\n",
    "# draw circuit\n",
    "SVGCircuit(qc)"
   ]
  },
  {
   "cell_type": "code",
   "execution_count": null,
   "metadata": {},
   "outputs": [],
   "source": []
  }
 ],
 "metadata": {
  "kernelspec": {
   "display_name": "Python 3",
   "language": "python",
   "name": "python3"
  },
  "language_info": {
   "codemirror_mode": {
    "name": "ipython",
    "version": 3
   },
   "file_extension": ".py",
   "mimetype": "text/x-python",
   "name": "python",
   "nbconvert_exporter": "python",
   "pygments_lexer": "ipython3",
   "version": "3.7.1"
  }
 },
 "nbformat": 4,
 "nbformat_minor": 2
}
